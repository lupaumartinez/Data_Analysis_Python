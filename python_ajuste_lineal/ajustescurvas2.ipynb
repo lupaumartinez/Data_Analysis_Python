{
 "cells": [
  {
   "cell_type": "code",
   "execution_count": 48,
   "metadata": {
    "collapsed": true
   },
   "outputs": [],
   "source": [
    "import numpy as np\n",
    "import matplotlib.pyplot as plt\n",
    "from scipy.optimize import leastsq"
   ]
  },
  {
   "cell_type": "code",
   "execution_count": 49,
   "metadata": {
    "collapsed": true
   },
   "outputs": [],
   "source": [
    "#datos\n",
    "x = np.array([-20,-18,-16,14,-10,-6,-4,-2,2,3,4,6,12,14,16,18,20])*np.pi/15\n",
    "y = np.array([ 495,  496, 496,  497,  498, 499, 499, 500, 500, 499, 499.89, 499.64,  498.27,  497.61,  496.85,\n",
    "  496.00,  495.04])"
   ]
  },
  {
   "cell_type": "code",
   "execution_count": 50,
   "metadata": {
    "collapsed": false
   },
   "outputs": [],
   "source": [
    "def residuals(p, y, x):\n",
    " A, k, theta = p #los parámetros que queremos conseguir\n",
    " err = y - (A * (np.sin(k*x)/(k*x))**2+ theta) #la función que queremos ajustar, nos interesa k\n",
    " return err\n",
    "\n",
    "def peval(x, p):\n",
    " return p[0] * (np.sin(p[1]*x)/(p[1]*x))**2+ p[2]\n",
    "\n",
    "p0 = np.array([40,0.5,100]) #parámetros A,k, theta semillas para que arranque a fitear\n",
    "\n",
    "plsq = leastsq(residuals, p0, args=(y, x)) #optimización de esos parámetros"
   ]
  },
  {
   "cell_type": "code",
   "execution_count": 51,
   "metadata": {
    "collapsed": false
   },
   "outputs": [
    {
     "name": "stdout",
     "output_type": "stream",
     "text": [
      "[  1.44961323e+01   2.52074574e-01   4.85225479e+02]\n"
     ]
    }
   ],
   "source": [
    "print(plsq[0]) #Estos son los valores A, k y theta que se obtienen luego del ajuste"
   ]
  },
  {
   "cell_type": "code",
   "execution_count": 52,
   "metadata": {
    "collapsed": false
   },
   "outputs": [
    {
     "data": {
      "image/png": "[encoded data removed]",
      "text/plain": [
       "<matplotlib.figure.Figure at 0x836ccf0>"
      ]
     },
     "metadata": {},
     "output_type": "display_data"
    }
   ],
   "source": [
    "plt.plot(x,y,'.k',label='datos')\n",
    "x_ajuste = np.linspace(-20,20,1000) #para que el ajuste sea en un \"continuo\"\n",
    "plt.plot(x_ajuste, peval(x_ajuste,plsq[0]),'b',label='ajuste')\n",
    "plt.xlabel(\"x\")\n",
    "plt.ylabel(\"y\")\n",
    "plt.legend(loc='upper right')\n",
    "plt.savefig('figuraa.jpg',dpi=400)\n",
    "plt.show()"
   ]
  },
  {
   "cell_type": "code",
   "execution_count": null,
   "metadata": {
    "collapsed": true
   },
   "outputs": [],
   "source": []
  }
 ],
 "metadata": {
  "kernelspec": {
   "display_name": "Python 3",
   "language": "python",
   "name": "python3"
  },
  "language_info": {
   "codemirror_mode": {
    "name": "ipython",
    "version": 3
   },
   "file_extension": ".py",
   "mimetype": "text/x-python",
   "name": "python",
   "nbconvert_exporter": "python",
   "pygments_lexer": "ipython3",
   "version": "3.6.0"
  }
 },
 "nbformat": 4,
 "nbformat_minor": 2
}
