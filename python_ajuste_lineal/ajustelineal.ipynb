{
 "cells": [
  {
   "cell_type": "code",
   "execution_count": 16,
   "metadata": {},
   "outputs": [
    {
     "data": {
      "image/png": "[encoded data removed]",
      "text/plain": [
       "<matplotlib.figure.Figure at 0x5029150>"
      ]
     },
     "metadata": {},
     "output_type": "display_data"
    },
    {
     "data": {
      "text/plain": [
       "(1.1078983682552528,\n",
       " 0.022598394074548184,\n",
       " 0.016727456008208345,\n",
       " 0.012515778718667308,\n",
       " 0.99896147162327931)"
      ]
     },
     "execution_count": 16,
     "metadata": {},
     "output_type": "execute_result"
    }
   ],
   "source": [
    "import matplotlib.pyplot as plt\n",
    "import numpy as np\n",
    "\n",
    "x=np.sin(np.array([0,10,20,30,40,50,60])*np.pi/180)\n",
    "y=np.sin(np.array([0,12,24,36,48,60,72])*np.pi/180)\n",
    "ex=np.cos(x)*np.pi/180\n",
    "ey=np.cos(y)*2*np.pi/180\n",
    "\n",
    "sumx= sum(x)\n",
    "sumy= sum(y)\n",
    "sumx2= sum(x*x)\n",
    "sumy2= sum(y*y) \n",
    "sumxy= sum(x*y)\n",
    "n=len(x)\n",
    "promx=sumx/n\n",
    "\n",
    "m=(n*sumxy-sumx*sumy)/(n*sumx2-sumx*sumx)\n",
    "b=(sumx2*sumy-sumx*sumxy)/(n*sumx2-sumx*sumx)\n",
    "\n",
    "deltay=y-(m*x+b)\n",
    "sigmay= np.sqrt(sum(deltay**2)/(n-2))\n",
    "sigmam=sigmay*np.sqrt(n/(n*sumx2-sumx*sumx))\n",
    "sigmab=sigmay*np.sqrt(sumx2/(n*sumx2-sumx*sumx))\n",
    "\n",
    "sx=np.sqrt(n*sumx2-sumx*sumx)\n",
    "sy=np.sqrt(n*sumy2-sumy*sumy)\n",
    "R2=(n*sumxy-sumx*sumy)/(sx*sy)\n",
    "\n",
    "plt.errorbar(x,y,xerr=ex,yerr=ey,fmt='.k',label='datos')\n",
    "plt.plot(x,m*x+b,'r',label='ajuste')\n",
    "plt.title(\"Título\")\n",
    "plt.xlabel(\"abscisa\")\n",
    "plt.ylabel(\"ordenada\")\n",
    "plt.grid()\n",
    "plt.legend()\n",
    "plt.show()\n",
    "\n",
    "m,sigmam,b,sigmab,R2"
   ]
  }
 ],
 "metadata": {
  "kernelspec": {
   "display_name": "Python 3",
   "language": "python",
   "name": "python3"
  },
  "language_info": {
   "codemirror_mode": {
    "name": "ipython",
    "version": 3
   },
   "file_extension": ".py",
   "mimetype": "text/x-python",
   "name": "python",
   "nbconvert_exporter": "python",
   "pygments_lexer": "ipython3",
   "version": "3.6.4"
  }
 },
 "nbformat": 4,
 "nbformat_minor": 2
}
