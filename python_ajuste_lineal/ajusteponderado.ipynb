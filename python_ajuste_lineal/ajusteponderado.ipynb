{
 "cells": [
  {
   "cell_type": "code",
   "execution_count": 5,
   "metadata": {},
   "outputs": [],
   "source": [
    "import matplotlib.pyplot as plt\n",
    "import numpy as np\n",
    "from scipy.optimize import curve_fit"
   ]
  },
  {
   "cell_type": "code",
   "execution_count": 2,
   "metadata": {
    "collapsed": true
   },
   "outputs": [],
   "source": [
    "x=np.sin(np.array([0,10,20,30,40,50,60])*np.pi/180)\n",
    "y=np.sin(np.array([5,6,24,36,48,60,72])*np.pi/180)\n",
    "ex=np.cos(x)*np.pi/180\n",
    "ey=np.cos(y)*2*np.pi/180\n",
    "wy=1/ey**2"
   ]
  },
  {
   "cell_type": "code",
   "execution_count": 3,
   "metadata": {},
   "outputs": [
    {
     "data": {
      "image/png": "[encoded data removed]",
      "text/plain": [
       "<matplotlib.figure.Figure at 0x5d10270>"
      ]
     },
     "metadata": {},
     "output_type": "display_data"
    },
    {
     "data": {
      "text/plain": [
       "(1.0831387832766777,\n",
       " 0.063006927112041991,\n",
       " 0.027427305971984714,\n",
       " 0.044206465378609977,\n",
       " 0.99164628304211777)"
      ]
     },
     "execution_count": 3,
     "metadata": {},
     "output_type": "execute_result"
    }
   ],
   "source": [
    "sumx= sum(x*wy)\n",
    "sumy= sum(y*wy)\n",
    "sumx2= sum(x*x*wy)\n",
    "sumy2= sum(y*y*wy) \n",
    "sumxy= sum(x*y*wy)\n",
    "sumwy=sum(wy)\n",
    "n=len(x)\n",
    "promx=sumx/sumwy\n",
    "promy=sumy/sumwy\n",
    "w=sum(wy*(x-promx)**2)\n",
    "promx2=sumx2/sumwy\n",
    "\n",
    "m=(sumwy*sumxy-sumx*sumy)/(sumwy*sumx2-sumx*sumx)\n",
    "b=(sumx2*sumy-sumx*sumxy)/(sumwy*sumx2-sumx*sumx)\n",
    "\n",
    "deltay=y-(m*x+b)\n",
    "sigmay= np.sqrt((sum(wy*deltay**2))/(n-2))\n",
    "sigmam=np.sqrt(sigmay**2/w)\n",
    "sigmab=np.sqrt(sigmay**2*(1/sumwy+promx2/w))\n",
    "\n",
    "sx=np.sqrt(sumwy*sumx2-sumx*sumx)\n",
    "sy=np.sqrt(sumwy*sumy2-sumy*sumy)\n",
    "R2=(sumwy*sumxy-sumx*sumy)/(sx*sy)\n",
    "\n",
    "plt.errorbar(x,y,xerr=ex,yerr=ey,fmt='.b',label='datos')\n",
    "plt.plot(x,m*x+b,'r',label='ajuste ponderado')\n",
    "plt.title(\"Título\")\n",
    "plt.xlabel(\"abscisa\")\n",
    "plt.ylabel(\"ordenada\")\n",
    "plt.grid()\n",
    "plt.legend()\n",
    "plt.show()\n",
    "\n",
    "m,sigmam,b,sigmab,R2"
   ]
  },
  {
   "cell_type": "code",
   "execution_count": 8,
   "metadata": {},
   "outputs": [
    {
     "name": "stdout",
     "output_type": "stream",
     "text": [
      "1.08+-0.04\n",
      "0.03+-0.02\n"
     ]
    }
   ],
   "source": [
    "# Ajustamos\n",
    "f = lambda xl, A, B: A*xl+B # la función modelo, con la que ajustamos\n",
    "popt, pcov = curve_fit(f, x, y, sigma = ey, absolute_sigma=True)\n",
    "sigmas = np.sqrt([pcov[0,0],pcov[1,1]])\n",
    "for i in range(2):\n",
    "    print(\"{:.2f}+-{:.2f}\".format(popt[i], sigmas[i]))  "
   ]
  },
  {
   "cell_type": "code",
   "execution_count": 13,
   "metadata": {},
   "outputs": [
    {
     "data": {
      "image/png": "[encoded data removed]",
      "text/plain": [
       "<matplotlib.figure.Figure at 0x70b5610>"
      ]
     },
     "metadata": {},
     "output_type": "display_data"
    }
   ],
   "source": [
    "plt.plot(x,f(x, popt[0], popt[1]), 'r-', label = 'Ajuste') # Hacemos el gráfico en otro color de                                                                  #la función evaluada en los parámetros ajustados\n",
    "plt.errorbar(x,y,xerr=ex,yerr=ey,fmt='.b',label='datos')\n",
    "\n",
    "# Detalles del gráfico\n",
    "plt.title('Grafico ejemplo')\n",
    "plt.xlabel('Valores en x')\n",
    "plt.ylabel('Valores en y')\n",
    "plt.legend(loc = 'best')\n",
    "plt.grid()\n",
    "\n",
    "plt.show()"
   ]
  },
  {
   "cell_type": "code",
   "execution_count": 33,
   "metadata": {},
   "outputs": [
    {
     "data": {
      "text/plain": [
       "(array([ 1.07035333,  0.03561511]), array([ 0.07203617,  0.05168651]))"
      ]
     },
     "execution_count": 33,
     "metadata": {},
     "output_type": "execute_result"
    }
   ],
   "source": [
    "z,zp = np.polyfit(x,y,1,w=wy,cov=True)\n",
    "zerror = (np.diag(zp))**(1/2)\n",
    "\n",
    "z,zerror"
   ]
  },
  {
   "cell_type": "code",
   "execution_count": null,
   "metadata": {
    "collapsed": true
   },
   "outputs": [],
   "source": []
  }
 ],
 "metadata": {
  "kernelspec": {
   "display_name": "Python 3",
   "language": "python",
   "name": "python3"
  },
  "language_info": {
   "codemirror_mode": {
    "name": "ipython",
    "version": 3
   },
   "file_extension": ".py",
   "mimetype": "text/x-python",
   "name": "python",
   "nbconvert_exporter": "python",
   "pygments_lexer": "ipython3",
   "version": "3.6.4"
  }
 },
 "nbformat": 4,
 "nbformat_minor": 2
}
