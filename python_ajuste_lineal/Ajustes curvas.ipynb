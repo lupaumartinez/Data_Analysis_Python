{
 "cells": [
  {
   "cell_type": "code",
   "execution_count": 9,
   "metadata": {
    "collapsed": true
   },
   "outputs": [],
   "source": [
    "import numpy as np\n",
    "import matplotlib.pyplot as plt\n",
    "from scipy.optimize import least_squares"
   ]
  },
  {
   "cell_type": "code",
   "execution_count": 11,
   "metadata": {},
   "outputs": [],
   "source": [
    "def model(p, x):\n",
    " return p[0] * (np.sin(p[1]*x)/(p[1]*x))**2+ p[2]    #p es un vector con los parámetros a ajustar"
   ]
  },
  {
   "cell_type": "code",
   "execution_count": 12,
   "metadata": {
    "collapsed": true
   },
   "outputs": [],
   "source": [
    "def fun(p, x, y):\n",
    " return model(p, x) - y"
   ]
  },
  {
   "cell_type": "code",
   "execution_count": 16,
   "metadata": {},
   "outputs": [],
   "source": [
    "def jac(p, x, y):   #jacobiano\n",
    " J = np.empty((x.size, p.size))\n",
    " a= np.sin(p[1]*x)/(p[1]*x)\n",
    " J[:, 0] = a**2          #derivada de la función respecto a p[0]\n",
    " J[:, 1] = p[0] * 2*a*(np.cos(p[1]*x)*p[1]*x**2-np.sin(p[1]*x)*x)/((p[1]*x)**2)  #derivada de la función respecto a p[1]\n",
    " J[:, 2] = 1                        #derivada de la función respecto a p[2]\n",
    " return J"
   ]
  },
  {
   "cell_type": "code",
   "execution_count": 17,
   "metadata": {},
   "outputs": [],
   "source": [
    "#aca es donde hay q poner sus datos, acordarse de restar la intesidad mínima, y centrar el máximo en la posición cero\n",
    "x=np.array([-20,-18,-16,14,-10,-6,-4,-2,2,3,4,6,12,14,16,18,20])*np.pi/15 #datos de posición, no poner x=0 porque diverge\n",
    "y=np.array([ 495,  496, 496,  497,  498, 499, 499, 500, 500, 499, 499.89, 499.64,  498.27,  497.61,  496.85,\n",
    "  496.00,  495.04])  #datos de intensidad\n",
    "p0 = np.array([400, 0.5*np.pi/180,0]) #semillas de p, tienen que poner unos estimativos, p[0] es inteisdad máxima, p[1] se estima sabiendo q la rendja mide aprox 50 um..."
   ]
  },
  {
   "cell_type": "code",
   "execution_count": 18,
   "metadata": {},
   "outputs": [
    {
     "name": "stdout",
     "output_type": "stream",
     "text": [
      "`ftol` termination condition is satisfied.\n",
      "Function evaluations 205, initial cost 8.1413e+04, final cost 1.0923e+00, first-order optimality 3.46e-04.\n",
      "[  1.44961487e+01   2.52074405e-01   4.85225463e+02]\n"
     ]
    }
   ],
   "source": [
    "res = least_squares(fun, p0, jac=jac, bounds=(0, 1000), args=(x, y), verbose=1)\n",
    "print(res.x)   # p optimizado #\n"
   ]
  },
  {
   "cell_type": "code",
   "execution_count": 19,
   "metadata": {},
   "outputs": [
    {
     "data": {
      "image/png": "[encoded data removed]",
      "text/plain": [
       "<matplotlib.figure.Figure at 0x87163d0>"
      ]
     },
     "metadata": {},
     "output_type": "display_data"
    }
   ],
   "source": [
    "x_ajuste = np.linspace(-20,20,1000)\n",
    "y_ajuste = model(res.x, x_ajuste)\n",
    "plt.plot(x, y, 'o', markersize=4, label='data')\n",
    "plt.plot(x_ajuste, y_ajuste, label='ajuste')\n",
    "plt.xlabel(\"x\")\n",
    "plt.ylabel(\"y\")\n",
    "plt.legend(loc='upper right')\n",
    "plt.savefig('figura.jpg',dpi=400)\n",
    "plt.show()"
   ]
  },
  {
   "cell_type": "code",
   "execution_count": null,
   "metadata": {
    "collapsed": true
   },
   "outputs": [],
   "source": []
  }
 ],
 "metadata": {
  "kernelspec": {
   "display_name": "Python 3",
   "language": "python",
   "name": "python3"
  },
  "language_info": {
   "codemirror_mode": {
    "name": "ipython",
    "version": 3
   },
   "file_extension": ".py",
   "mimetype": "text/x-python",
   "name": "python",
   "nbconvert_exporter": "python",
   "pygments_lexer": "ipython3",
   "version": "3.6.4"
  }
 },
 "nbformat": 4,
 "nbformat_minor": 2
}
